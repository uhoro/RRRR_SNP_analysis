{
 "cells": [
  {
   "cell_type": "markdown",
   "id": "6c2d1c6e-2a3f-4e18-81e4-33cccb109814",
   "metadata": {},
   "source": [
    "Get high KaKs region in python"
   ]
  },
  {
   "cell_type": "code",
   "execution_count": 25,
   "id": "cf002dc5-d391-4822-9d27-08026199d50c",
   "metadata": {},
   "outputs": [],
   "source": [
    "from tqdm.contrib import tenumerate\n",
    "import numpy as np\n",
    "import pandas as pd\n",
    "from functools import partial"
   ]
  },
  {
   "cell_type": "code",
   "execution_count": 28,
   "id": "a5d73746-4a9a-4e21-b1a1-ef14d560a70a",
   "metadata": {},
   "outputs": [],
   "source": [
    "# Define helper function\n",
    "def get_KaKs_region(geneid_df, threshold=1, step_size=6, block_length=30):\n",
    "    vec = (geneid_df['Ka/Ks'] > threshold).to_numpy()\n",
    "    \n",
    "    n_bases = 0\n",
    "    KaKs_r = 0\n",
    "    n_blocks = 0\n",
    "    pos_info = \"pos\"\n",
    "    \n",
    "    if vec.sum() == 0:\n",
    "        return n_bases, KaKs_r, n_blocks, pos_info\n",
    "    \n",
    "    n_bases = vec.sum() * step_size\n",
    "    KaKs_r = vec.sum() / len(vec)\n",
    "    \n",
    "    for start in range(len(vec)):\n",
    "        if vec[start]:\n",
    "            for end in range(start, len(vec)):\n",
    "                length = end - start + 1\n",
    "                if vec[start:end+1].sum() != length:\n",
    "                    if (end - start) >= (block_length // step_size):\n",
    "                        n_blocks += 1\n",
    "                        pos_info += f\"_s{start * step_size}_e{(end) * step_size}\"\n",
    "                    vec[start:end+1] = False\n",
    "                    break\n",
    "    \n",
    "    return n_bases, KaKs_r, n_blocks, pos_info"
   ]
  },
  {
   "cell_type": "code",
   "execution_count": 89,
   "id": "aa204770-9192-438c-a6d6-866632b10c99",
   "metadata": {},
   "outputs": [],
   "source": [
    "# combine kaks files \n",
    "C1G11_C1C5v2_KaKs_all_df_1 = pd.read_table(\"SNP_DP5/variant_seq/C1G11_C1C5v2split_114_6_1.axt.kaks\", sep=\"\\t\", header=0)\n",
    "C1G11_C1C5v2_KaKs_all_df_2 = pd.read_table(\"SNP_DP5/variant_seq/C1G11_C1C5v2split_114_6_2.axt.kaks\", sep=\"\\t\", header=0)\n",
    "C1G11_C1C5v2_KaKs_all_df_3 = pd.read_table(\"SNP_DP5/variant_seq/C1G11_C1C5v2split_114_6_3.axt.kaks\", sep=\"\\t\", header=0)"
   ]
  },
  {
   "cell_type": "code",
   "execution_count": 90,
   "id": "6ec08959-1aaa-4cfd-9952-d76ed06561dc",
   "metadata": {},
   "outputs": [],
   "source": [
    "C1G11_C1C5v2_KaKs_all_df_shaped = pd.concat([C1G11_C1C5v2_KaKs_all_df_1, C1G11_C1C5v2_KaKs_all_df_2, C1G11_C1C5v2_KaKs_all_df_3],ignore_index=True)"
   ]
  },
  {
   "cell_type": "code",
   "execution_count": 91,
   "id": "bd520328-c9e3-4728-8596-80be679c7070",
   "metadata": {},
   "outputs": [
    {
     "name": "stdout",
     "output_type": "stream",
     "text": [
      "1249817\n",
      "1249878\n",
      "226553\n",
      "2776362\n"
     ]
    }
   ],
   "source": [
    "print(len(C1G11_C1C5v2_KaKs_all_df_1))\n",
    "print(len(C1G11_C1C5v2_KaKs_all_df_2))\n",
    "print(len(C1G11_C1C5v2_KaKs_all_df_3))\n",
    "print(len(C1G11_C1C5v2_KaKs_all_df_shaped))"
   ]
  },
  {
   "cell_type": "code",
   "execution_count": 92,
   "id": "2147e815-fbc2-40f5-9516-c07489451d47",
   "metadata": {},
   "outputs": [
    {
     "name": "stdout",
     "output_type": "stream",
     "text": [
      "finished reading data\n"
     ]
    }
   ],
   "source": [
    "#C1G11_C1C5v2_KaKs_all_df = pd.read_table(\"SNP_DP2/variant_seq/C1G11_C1C5v2split_114_6.axt.kaks\", sep=\"\\t\", header=0)\n",
    "print(\"finished reading data\")\n",
    "#C1G11_C1C5v2_KaKs_all_df_shaped = C1G11_C1C5v2_KaKs_all_df.copy()\n",
    "C1G11_C1C5v2_KaKs_all_df_shaped['pos'] = C1G11_C1C5v2_KaKs_all_df_shaped['Sequence'].str.extract(r'\\((\\d+)\\-', expand=False).astype(int)\n",
    "C1G11_C1C5v2_KaKs_all_df_shaped['pair'] = C1G11_C1C5v2_KaKs_all_df_shaped['Sequence'].str.extract(r'.{11}(.*)\\(', expand=False)\n",
    "C1G11_C1C5v2_KaKs_all_df_shaped['geneid'] = C1G11_C1C5v2_KaKs_all_df_shaped['Sequence'].str.extract(r'(.{10})', expand=False)\n",
    "\n",
    "geneid_vec = C1G11_C1C5v2_KaKs_all_df_shaped['geneid'].unique()\n",
    "KaKs_all_df = pd.DataFrame({'geneid': geneid_vec})\n",
    "KaKs_all_df['KaKs_bases'] = 0\n",
    "KaKs_all_df['KaKs_r'] = 0\n",
    "KaKs_all_df['n_blocks'] = 0\n",
    "KaKs_all_df['pos_info'] = ''\n",
    "\n",
    "KaKs_all_df2 = pd.DataFrame({'geneid': geneid_vec})\n",
    "KaKs_all_df2['KaKs_bases2'] = 0\n",
    "KaKs_all_df2['KaKs_r2'] = 0\n",
    "KaKs_all_df2['n_blocks2'] = 0\n",
    "KaKs_all_df2['pos_info2'] = ''"
   ]
  },
  {
   "cell_type": "code",
   "execution_count": 93,
   "id": "3a9a253f-924e-4da1-a049-84ec3fff7b6e",
   "metadata": {},
   "outputs": [
    {
     "name": "stdout",
     "output_type": "stream",
     "text": [
      "start calculating high KaKs region\n"
     ]
    },
    {
     "data": {
      "application/vnd.jupyter.widget-view+json": {
       "model_id": "da9b8b5b046e446ebc70ca36d5a02f44",
       "version_major": 2,
       "version_minor": 0
      },
      "text/plain": [
       "  0%|          | 0/9695 [00:00<?, ?it/s]"
      ]
     },
     "metadata": {},
     "output_type": "display_data"
    },
    {
     "name": "stderr",
     "output_type": "stream",
     "text": [
      "/var/folders/s9/cpzp3wfd7831nz97c48532140000gn/T/ipykernel_75860/1754652586.py:5: FutureWarning: Setting an item of incompatible dtype is deprecated and will raise an error in a future version of pandas. Value '0.006756756756756757' has dtype incompatible with int64, please explicitly cast to a compatible dtype first.\n",
      "  KaKs_all_df.loc[KaKs_all_df['geneid'] == geneid, ['KaKs_bases', 'KaKs_r', 'n_blocks', 'pos_info']] = res1\n",
      "/var/folders/s9/cpzp3wfd7831nz97c48532140000gn/T/ipykernel_75860/1754652586.py:7: FutureWarning: Setting an item of incompatible dtype is deprecated and will raise an error in a future version of pandas. Value '0.0011299435028248588' has dtype incompatible with int64, please explicitly cast to a compatible dtype first.\n",
      "  KaKs_all_df2.loc[KaKs_all_df2['geneid'] == geneid, ['KaKs_bases2', 'KaKs_r2', 'n_blocks2', 'pos_info2']] = res2\n"
     ]
    }
   ],
   "source": [
    "print(\"start calculating high KaKs region\")\n",
    "for idx, geneid in tenumerate(geneid_vec):\n",
    "    geneid_df = C1G11_C1C5v2_KaKs_all_df_shaped[C1G11_C1C5v2_KaKs_all_df_shaped['geneid'] == geneid]\n",
    "    res1 = get_KaKs_region(geneid_df)\n",
    "    KaKs_all_df.loc[KaKs_all_df['geneid'] == geneid, ['KaKs_bases', 'KaKs_r', 'n_blocks', 'pos_info']] = res1\n",
    "    res2 = get_KaKs_region(geneid_df, threshold=2)\n",
    "    KaKs_all_df2.loc[KaKs_all_df2['geneid'] == geneid, ['KaKs_bases2', 'KaKs_r2', 'n_blocks2', 'pos_info2']] = res2\n",
    "    #print(f\"finished {geneid}\")\n",
    "\n",
    "KaKs_all_df_update = pd.merge(KaKs_all_df, KaKs_all_df2, on='geneid')"
   ]
  },
  {
   "cell_type": "code",
   "execution_count": 94,
   "id": "fd139028-8392-4e3f-a92d-88b90d2ac1ce",
   "metadata": {},
   "outputs": [],
   "source": [
    "KaKs_all_df_update.to_csv(\"SNP_DP5/C1G11_C1C5v2_KaKs_all.csv\", index=False)"
   ]
  },
  {
   "cell_type": "code",
   "execution_count": null,
   "id": "bf16c742-1dd4-408a-b23e-737d5012deeb",
   "metadata": {},
   "outputs": [],
   "source": []
  }
 ],
 "metadata": {
  "kernelspec": {
   "display_name": "Python 3 (ipykernel)",
   "language": "python",
   "name": "python3"
  },
  "language_info": {
   "codemirror_mode": {
    "name": "ipython",
    "version": 3
   },
   "file_extension": ".py",
   "mimetype": "text/x-python",
   "name": "python",
   "nbconvert_exporter": "python",
   "pygments_lexer": "ipython3",
   "version": "3.10.15"
  }
 },
 "nbformat": 4,
 "nbformat_minor": 5
}
